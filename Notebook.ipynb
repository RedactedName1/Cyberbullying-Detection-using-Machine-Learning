{
 "cells": [
  {
   "cell_type": "markdown",
   "metadata": {
    "id": "EqpfQYGhxoqL"
   },
   "source": [
    "# Installing relevant packages"
   ]
  },
  {
   "cell_type": "code",
   "execution_count": null,
   "metadata": {
    "colab": {
     "base_uri": "https://localhost:8080/"
    },
    "id": "4kuN3hsM_qcd",
    "outputId": "4e491146-846e-4221-8146-732688609f8a"
   },
   "outputs": [],
   "source": [
    "pip install sklearn"
   ]
  },
  {
   "cell_type": "code",
   "execution_count": null,
   "metadata": {
    "colab": {
     "base_uri": "https://localhost:8080/"
    },
    "id": "LidA20peBKPf",
    "outputId": "c57a6e51-bfd9-4348-c8df-e18231065fdb"
   },
   "outputs": [],
   "source": [
    "pip install numpy"
   ]
  },
  {
   "cell_type": "code",
   "execution_count": null,
   "metadata": {
    "colab": {
     "base_uri": "https://localhost:8080/"
    },
    "id": "1FXBPKmTBNrb",
    "outputId": "91d1afb7-d307-4747-9061-fb87b2d640be"
   },
   "outputs": [],
   "source": [
    "pip install pandas"
   ]
  },
  {
   "cell_type": "code",
   "execution_count": null,
   "metadata": {
    "colab": {
     "base_uri": "https://localhost:8080/"
    },
    "id": "qK6MZnk_Kmj6",
    "outputId": "562cb1c0-4d8a-4177-af6f-d649e5653400"
   },
   "outputs": [],
   "source": [
    "pip install nltk"
   ]
  },
  {
   "cell_type": "code",
   "execution_count": null,
   "metadata": {
    "colab": {
     "base_uri": "https://localhost:8080/"
    },
    "id": "1uyIgXh2Bctj",
    "outputId": "e5063942-39e1-47e6-85da-2724787921cb"
   },
   "outputs": [],
   "source": [
    "pip install matplotlib"
   ]
  },
  {
   "cell_type": "code",
   "execution_count": null,
   "metadata": {
    "colab": {
     "base_uri": "https://localhost:8080/"
    },
    "id": "5IEggF7EklVy",
    "outputId": "cbfff54e-186d-4859-ce31-54263239abfa"
   },
   "outputs": [],
   "source": [
    "pip install imblearn"
   ]
  },
  {
   "cell_type": "markdown",
   "metadata": {
    "id": "OD9-Nr9SI48Z"
   },
   "source": [
    "# Importing"
   ]
  },
  {
   "cell_type": "code",
   "execution_count": null,
   "metadata": {
    "id": "wAClNxeWBP5z"
   },
   "outputs": [],
   "source": [
    "import numpy as np\n",
    "import pandas as pd\n",
    "import matplotlib.pyplot as plt\n",
    "\n",
    "from sklearn.feature_extraction.text import TfidfTransformer, CountVectorizer, TfidfVectorizer\n",
    "from sklearn.metrics import confusion_matrix\n",
    "from sklearn.model_selection import train_test_split\n",
    "\n",
    "from nltk.stem.porter import PorterStemmer\n",
    "import nltk\n",
    "import re, string\n",
    "from nltk.corpus import stopwords\n",
    "\n",
    "from sklearn.linear_model import LogisticRegression\n",
    "from sklearn.ensemble import RandomForestClassifier, AdaBoostClassifier\n",
    "from sklearn.linear_model import LogisticRegression\n",
    "from sklearn.svm import LinearSVC\n",
    "from sklearn.model_selection import train_test_split\n",
    "from sklearn.naive_bayes import GaussianNB\n",
    "from sklearn.tree import DecisionTreeClassifier\n",
    "\n",
    "from sklearn.model_selection import cross_val_score\n",
    "\n",
    "from sklearn.metrics import confusion_matrix\n",
    "from sklearn.metrics import accuracy_score\n",
    "from sklearn.metrics import precision_recall_curve\n",
    "from sklearn.metrics import plot_precision_recall_curve\n",
    "import matplotlib.pyplot as plt\n",
    "from sklearn.metrics import roc_auc_score\n",
    "from sklearn.metrics import roc_curve\n",
    "from sklearn.metrics import classification_report\n",
    "from sklearn import metrics"
   ]
  },
  {
   "cell_type": "markdown",
   "metadata": {
    "id": "dSbaTauxLKzh"
   },
   "source": [
    "# Loading Data"
   ]
  },
  {
   "cell_type": "code",
   "execution_count": null,
   "metadata": {
    "colab": {
     "base_uri": "https://localhost:8080/"
    },
    "id": "576KVyOxAgSO",
    "outputId": "a4fe589d-7aa0-48a8-f8e5-4c2065e72a84"
   },
   "outputs": [],
   "source": [
    "url = 'https://drive.google.com/uc?export=download&id=12fBlhsa5GIdtme1jT3KlPPIgIdjzqhv1'\n",
    "df = pd.read_json(url, lines= True,orient='columns')\n",
    "df.head"
   ]
  },
  {
   "cell_type": "code",
   "execution_count": null,
   "metadata": {
    "colab": {
     "base_uri": "https://localhost:8080/"
    },
    "id": "WG0QYg2oBu5V",
    "outputId": "9e869be2-4f6e-4fe0-e500-d94c92f72f6d"
   },
   "outputs": [],
   "source": [
    "for i in range(0,len(df)):\n",
    "    if df.annotation[i]['label'][0] == '1':\n",
    "        df.annotation[i] = 1\n",
    "    else:\n",
    "        df.annotation[i] = 0"
   ]
  },
  {
   "cell_type": "code",
   "execution_count": null,
   "metadata": {
    "colab": {
     "base_uri": "https://localhost:8080/",
     "height": 424
    },
    "id": "zY5rDAE_JfP3",
    "outputId": "a4a262ad-998c-4cd2-f837-9aa6e367481e"
   },
   "outputs": [],
   "source": [
    "df.drop(['extras'],axis = 1,inplace = True)\n",
    "df"
   ]
  },
  {
   "cell_type": "code",
   "execution_count": null,
   "metadata": {
    "colab": {
     "base_uri": "https://localhost:8080/"
    },
    "id": "e2Z-9RpGJkuO",
    "outputId": "977d28c7-16e1-47c2-baed-556803ca382c"
   },
   "outputs": [],
   "source": [
    "df.shape "
   ]
  },
  {
   "cell_type": "markdown",
   "metadata": {
    "id": "XcnWwdqTMYmW"
   },
   "source": [
    "# Visualization"
   ]
  },
  {
   "cell_type": "code",
   "execution_count": null,
   "metadata": {
    "colab": {
     "base_uri": "https://localhost:8080/",
     "height": 280
    },
    "id": "UwXnu0sQMbQW",
    "outputId": "33df9e7c-c7a9-482a-fd39-735c538b928d"
   },
   "outputs": [],
   "source": [
    "df['annotation'].value_counts().sort_index().plot.bar()"
   ]
  },
  {
   "cell_type": "code",
   "execution_count": null,
   "metadata": {
    "colab": {
     "base_uri": "https://localhost:8080/"
    },
    "id": "3FGX6jJmikrd",
    "outputId": "6b37390c-4108-43f9-f65e-74c1a6d9e91b"
   },
   "outputs": [],
   "source": [
    "#Biasness\n",
    "print(\"PosiNon cyber trollingtive: \", df.annotation.value_counts()[0]/len(df.annotation)*100,\"%\")\n",
    "print(\"Cybertrolling: \", df.annotation.value_counts()[1]/len(df.annotation)*100,\"%\")"
   ]
  },
  {
   "cell_type": "markdown",
   "metadata": {
    "id": "RGBzITynLQg4"
   },
   "source": [
    "# Preprocessing"
   ]
  },
  {
   "cell_type": "code",
   "execution_count": null,
   "metadata": {
    "colab": {
     "base_uri": "https://localhost:8080/",
     "height": 460
    },
    "id": "Lp3xpJl3K4at",
    "outputId": "224d212d-9167-4778-eac3-817302a0d9ea"
   },
   "outputs": [],
   "source": [
    "nltk.download('stopwords')\n",
    "stop = stopwords.words('english')\n",
    "\n",
    "regex = re.compile('[%s]' % re.escape(string.punctuation))\n",
    "\n",
    "def test_re(s):\n",
    "    return regex.sub('', s)\n",
    "\n",
    "df ['content_without_stopwords'] = df['content'].apply(lambda x: ' '.join([word for word in x.split() if word not in (stop)]))\n",
    "df ['content_without_puncs'] = df['content_without_stopwords'].apply(lambda x: regex.sub('',x))\n",
    "del df['content_without_stopwords']\n",
    "del df['content']\n",
    "df"
   ]
  },
  {
   "cell_type": "code",
   "execution_count": null,
   "metadata": {
    "colab": {
     "base_uri": "https://localhost:8080/",
     "height": 460
    },
    "id": "p0zjVqoqME5j",
    "outputId": "c3082213-0088-4205-ef56-26a58ee43628"
   },
   "outputs": [],
   "source": [
    "#Stemming\n",
    "porter_stemmer = PorterStemmer()\n",
    "#punctuations\n",
    "nltk.download('punkt')\n",
    "tok_list = []\n",
    "size = df.shape[0]\n",
    "\n",
    "for i in range(size):\n",
    "  word_data = df['content_without_puncs'][i]\n",
    "  nltk_tokens = nltk.word_tokenize(word_data)\n",
    "  final = ''\n",
    "  for w in nltk_tokens:\n",
    "    final = final + ' ' + porter_stemmer.stem(w)\n",
    "  tok_list.append(final)\n",
    "\n",
    "df['content_tokenize'] = tok_list\n",
    "del df['content_without_puncs']\n",
    "df"
   ]
  },
  {
   "cell_type": "code",
   "execution_count": null,
   "metadata": {
    "colab": {
     "base_uri": "https://localhost:8080/",
     "height": 424
    },
    "id": "aKzuLpipUbLb",
    "outputId": "8e7e1266-406f-40bc-ff63-40d022170c29"
   },
   "outputs": [],
   "source": [
    "noNums = []\n",
    "for i in range(len(df)):\n",
    "  noNums.append(''.join([i for i in df['content_tokenize'][i] if not i.isdigit()]))\n",
    "\n",
    "df['content'] = noNums\n",
    "df"
   ]
  },
  {
   "cell_type": "code",
   "execution_count": null,
   "metadata": {
    "id": "Ft1hdwsMte03"
   },
   "outputs": [],
   "source": [
    "tfIdfVectorizer=TfidfVectorizer(use_idf=True, sublinear_tf=True)\n",
    "tfIdf = tfIdfVectorizer.fit_transform(df.content.tolist())"
   ]
  },
  {
   "cell_type": "code",
   "execution_count": null,
   "metadata": {
    "colab": {
     "base_uri": "https://localhost:8080/"
    },
    "id": "cb2WDQ4nv93h",
    "outputId": "8653b5e0-e439-4868-f17d-72bf3fa4806c"
   },
   "outputs": [],
   "source": [
    "print(tfIdf)"
   ]
  },
  {
   "cell_type": "code",
   "execution_count": null,
   "metadata": {
    "colab": {
     "base_uri": "https://localhost:8080/"
    },
    "id": "oiS6vofL6oVg",
    "outputId": "265c86aa-800a-47d5-92cd-e58c11689a6d"
   },
   "outputs": [],
   "source": [
    "print(tfIdf.shape) # means total rows  20001 with 14783 features"
   ]
  },
  {
   "cell_type": "code",
   "execution_count": null,
   "metadata": {
    "colab": {
     "base_uri": "https://localhost:8080/"
    },
    "id": "iTtnFAZUwC4q",
    "outputId": "fae8f5f8-a6a9-4926-875b-bf40ab0578b3"
   },
   "outputs": [],
   "source": [
    "df2 = pd.DataFrame(tfIdf[2].T.todense(), index=tfIdfVectorizer.get_feature_names(), columns=[\"TF-IDF\"]) #for second entry only(just to check if working)\n",
    "df2 = df2.sort_values('TF-IDF', ascending=False)\n",
    "print (df2.head(10))"
   ]
  },
  {
   "cell_type": "code",
   "execution_count": null,
   "metadata": {},
   "outputs": [],
   "source": []
  },
  {
   "cell_type": "code",
   "execution_count": null,
   "metadata": {
    "colab": {
     "base_uri": "https://localhost:8080/"
    },
    "id": "YmJnUKdTwfKB",
    "outputId": "7d5be515-c14d-4c5f-bbae-ab0bacecd528"
   },
   "outputs": [],
   "source": [
    "dfx = pd.DataFrame(tfIdf.toarray(), columns = tfIdfVectorizer.get_feature_names())\n",
    "print(dfx)"
   ]
  },
  {
   "cell_type": "code",
   "execution_count": null,
   "metadata": {
    "id": "dPnN_5Zs5oRT"
   },
   "outputs": [],
   "source": [
    "def display_scores(vectorizer, tfidf_result):\n",
    "    scores = zip(vectorizer.get_feature_names(),\n",
    "                 np.asarray(tfidf_result.sum(axis=0)).ravel())\n",
    "    sorted_scores = sorted(scores, key=lambda x: x[1], reverse=True)\n",
    "    i=0\n",
    "    for item in sorted_scores:\n",
    "        print (\"{0:50} Score: {1}\".format(item[0], item[1]))\n",
    "        i = i+1\n",
    "        if (i > 25):\n",
    "          break"
   ]
  },
  {
   "cell_type": "code",
   "execution_count": null,
   "metadata": {
    "colab": {
     "base_uri": "https://localhost:8080/"
    },
    "id": "Fhclr5Bs54f5",
    "outputId": "661b6988-f851-4045-b1d4-10e427328729"
   },
   "outputs": [],
   "source": [
    "#top 25 words\n",
    "display_scores(tfIdfVectorizer, tfIdf)"
   ]
  },
  {
   "cell_type": "code",
   "execution_count": null,
   "metadata": {
    "colab": {
     "base_uri": "https://localhost:8080/"
    },
    "id": "nQZngbDHd4x_",
    "outputId": "90e094f7-88c1-40e6-ffc5-569efd45374d"
   },
   "outputs": [],
   "source": [
    "X=tfIdf.toarray()\n",
    "y = np.array(df.annotation.tolist())\n",
    "#Spltting\n",
    "X_train, X_test, y_train, y_test = train_test_split(X, y, test_size=0.2, random_state=0)\n",
    "\n",
    "print(X_train.shape)\n",
    "print(y_train.shape)\n",
    "print(X_test.shape)\n",
    "print(y_test.shape)"
   ]
  },
  {
   "cell_type": "code",
   "execution_count": null,
   "metadata": {
    "colab": {
     "base_uri": "https://localhost:8080/"
    },
    "id": "-SjTzm2fjKEE",
    "outputId": "fb397371-833a-40c2-e167-cb0a0cab6b5a"
   },
   "outputs": [],
   "source": [
    "#Training data biasness\n",
    "unique_elements, counts_elements = np.unique(y_train, return_counts=True)\n",
    "print(np.asarray((unique_elements, counts_elements)))"
   ]
  },
  {
   "cell_type": "code",
   "execution_count": null,
   "metadata": {
    "colab": {
     "base_uri": "https://localhost:8080/"
    },
    "id": "dkt2VjU8kXLl",
    "outputId": "bc0f3d3d-c2c2-4632-aac6-adc90b045cbb"
   },
   "outputs": [],
   "source": [
    "#Test Data\n",
    "unique_elements, counts_elements = np.unique(y_test, return_counts=True)\n",
    "print(np.asarray((unique_elements, counts_elements)))"
   ]
  },
  {
   "cell_type": "code",
   "execution_count": null,
   "metadata": {
    "colab": {
     "base_uri": "https://localhost:8080/"
    },
    "id": "vEkoOucMrtcT",
    "outputId": "d4c98288-7a56-4da3-e1f5-a63001e1adb9"
   },
   "outputs": [],
   "source": [
    "#Random oversampling on training data\n",
    "from imblearn.over_sampling import RandomOverSampler\n",
    "\n",
    "oversample = RandomOverSampler(sampling_strategy='not majority')\n",
    "X_over, y_over = oversample.fit_resample(X_train, y_train)"
   ]
  },
  {
   "cell_type": "code",
   "execution_count": null,
   "metadata": {
    "colab": {
     "base_uri": "https://localhost:8080/"
    },
    "id": "6uPLIoFAsQFf",
    "outputId": "c044bb82-9088-4952-d240-9ca5c1a518f3"
   },
   "outputs": [],
   "source": [
    "print(X_over.shape)\n",
    "print(y_over.shape)"
   ]
  },
  {
   "cell_type": "code",
   "execution_count": null,
   "metadata": {
    "colab": {
     "base_uri": "https://localhost:8080/"
    },
    "id": "QbrJ3WGiyPp3",
    "outputId": "c1a7cd61-3eb5-4de9-a156-0360783e8955"
   },
   "outputs": [],
   "source": [
    "unique_elements, counts_elements = np.unique(y_over, return_counts=True)\n",
    "print(np.asarray((unique_elements, counts_elements)))"
   ]
  },
  {
   "cell_type": "markdown",
   "metadata": {
    "id": "iuMzc-_HHn16"
   },
   "source": [
    "# Training and Calculating Scores"
   ]
  },
  {
   "cell_type": "code",
   "execution_count": null,
   "metadata": {
    "id": "cEthYYxSJNiq"
   },
   "outputs": [],
   "source": [
    "def getStatsFromModel(model):\n",
    "  print(classification_report(y_test, y_pred))\n",
    "  disp = plot_precision_recall_curve(model, X_test, y_test)\n",
    "  disp.ax_.set_title('2-class Precision-Recall curve: '\n",
    "                   'AP={0:0.2f}')\n",
    "  \n",
    "  logit_roc_auc = roc_auc_score(y_test, model.predict(X_test))\n",
    "  fpr, tpr, thresholds = roc_curve(y_test, model.predict_proba(X_test)[:,1])\n",
    "  plt.figure()\n",
    "  plt.plot(fpr, tpr, label='(area = %0.2f)' % logit_roc_auc)\n",
    "  plt.plot([0, 1], [0, 1],'r--')\n",
    "  plt.xlim([0.0, 1.0])\n",
    "  plt.ylim([0.0, 1.05])\n",
    "  plt.xlabel('False Positive Rate')\n",
    "  plt.ylabel('True Positive Rate')\n",
    "  plt.title('Receiver operating characteristic')\n",
    "  plt.legend(loc=\"lower right\")\n",
    "  plt.savefig('Log_ROC')\n",
    "  plt.show()"
   ]
  },
  {
   "cell_type": "markdown",
   "metadata": {
    "id": "yO0CzuCxHxVb"
   },
   "source": [
    "## Normal Methods"
   ]
  },
  {
   "cell_type": "code",
   "execution_count": null,
   "metadata": {
    "colab": {
     "base_uri": "https://localhost:8080/",
     "height": 809
    },
    "id": "4NfNEOO07efX",
    "outputId": "f6f82b76-b87b-4dcb-b1a7-357bf4b5adf6"
   },
   "outputs": [],
   "source": [
    "#Supervised Methods\n",
    "# 3 normal methods\n",
    "# 2 ensemble methods\n",
    "gnb = GaussianNB()\n",
    "gnbmodel = gnb.fit(X_over, y_over)\n",
    "y_pred = gnbmodel.predict(X_test)\n",
    "print (\"Score:\", gnbmodel.score(X_test, y_test))\n",
    "print(\"Confusion Matrix: \\n\", confusion_matrix(y_test, y_pred))\n",
    "getStatsFromModel(gnb)"
   ]
  },
  {
   "cell_type": "code",
   "execution_count": null,
   "metadata": {
    "colab": {
     "base_uri": "https://localhost:8080/",
     "height": 809
    },
    "id": "S4B2JeZD8POe",
    "outputId": "df4f9193-e130-4c5e-f1c1-8252859dcdb1"
   },
   "outputs": [],
   "source": [
    "lgr = LogisticRegression()\n",
    "lgr.fit(X_over, y_over)\n",
    "y_pred = lgr.predict(X_test)\n",
    "print(\"Accuracy: \",metrics.accuracy_score(y_test, y_pred))\n",
    "print(\"Confusion Matrix: \\n\", confusion_matrix(y_test, y_pred))\n",
    "getStatsFromModel(lgr)"
   ]
  },
  {
   "cell_type": "code",
   "execution_count": null,
   "metadata": {
    "colab": {
     "base_uri": "https://localhost:8080/",
     "height": 809
    },
    "id": "fywHEHa845Wt",
    "outputId": "5f347486-8f2d-480e-8182-c4023e13b866"
   },
   "outputs": [],
   "source": [
    "dtc = DecisionTreeClassifier()\n",
    "dtc.fit(X_over, y_over)\n",
    "y_pred = dtc.predict(X_test)\n",
    "print(\"Accuracy: \",metrics.accuracy_score(y_test, y_pred))\n",
    "print(\"Confusion Matrix: \\n\", confusion_matrix(y_test, y_pred))\n",
    "getStatsFromModel(dtc)"
   ]
  },
  {
   "cell_type": "markdown",
   "metadata": {
    "id": "UcznCIZmH1bp"
   },
   "source": [
    "## Ensemble Methods"
   ]
  },
  {
   "cell_type": "code",
   "execution_count": null,
   "metadata": {
    "colab": {
     "base_uri": "https://localhost:8080/",
     "height": 809
    },
    "id": "fpXSkiZd5eft",
    "outputId": "f578168f-a201-46b2-dde8-73b5a46f45c8"
   },
   "outputs": [],
   "source": [
    "#Ensemble methods from here \n",
    "abc = AdaBoostClassifier() \n",
    "abc.fit(X_over, y_over)\n",
    "y_pred = abc.predict(X_test)\n",
    "print(\"Accuracy: \",metrics.accuracy_score(y_test, y_pred))\n",
    "print(\"Confusion Matrix: \\n\", confusion_matrix(y_test, y_pred))\n",
    "getStatsFromModel(abc)"
   ]
  },
  {
   "cell_type": "code",
   "execution_count": null,
   "metadata": {
    "colab": {
     "base_uri": "https://localhost:8080/"
    },
    "id": "8j2_O4GXe9LY",
    "outputId": "2345f253-efd6-43fe-bd6c-da1c96979b72"
   },
   "outputs": [],
   "source": [
    "rfc = RandomForestClassifier(verbose=True) #uses randomized decision trees\n",
    "rfcmodel = rfc.fit(X_over, y_over)\n",
    "y_pred = rfc.predict(X_test)\n",
    "print (\"Score:\", rfcmodel.score(X_test, y_test))\n",
    "print(\"Confusion Matrix: \\n\", confusion_matrix(y_test, y_pred))\n",
    "getStatsFromModel(rfc)"
   ]
  },
  {
   "cell_type": "markdown",
   "metadata": {
    "id": "dyz031KMH-7K"
   },
   "source": [
    "## Requires High RAM and processing time - Not used"
   ]
  },
  {
   "cell_type": "code",
   "execution_count": null,
   "metadata": {
    "id": "QlCYpZfPmEXA"
   },
   "outputs": [],
   "source": [
    "# Model, SVM\n",
    "# from sklearn import svm\n",
    "\n",
    "\n",
    "# clf = svm.SVC(kernel='linear', verbose=True)\n",
    "# clf.fit(X_over, y_over)\n",
    "# y_pred = clf.predict(X_test)\n",
    "# print(\"Accuracy: \",metrics.accuracy_score(y_test, y_pred))\n",
    "# print(\"Confusion Matrix: \\n\", confusion_matrix(y_test, y_pred))\n",
    "# getStatsFromModel(clf)"
   ]
  },
  {
   "cell_type": "code",
   "execution_count": null,
   "metadata": {
    "id": "VKzSCZ4_xYOM"
   },
   "outputs": [],
   "source": [
    "# from sklearn.neural_network import MLPClassifier\n",
    "# mlp = MLPClassifier(hidden_layer_sizes=(100,100,100,10), max_iter=200, verbose=True)\n",
    "# mlp.fit(X_over,y_over)\n",
    "# print(\"Confusion Matrix: \\n\", confusion_matrix(y_test, y_pred))\n",
    "# getStatsFromModel(mlp)"
   ]
  },
  {
   "cell_type": "code",
   "execution_count": null,
   "metadata": {
    "id": "ZFpeFb-zA2Z5"
   },
   "outputs": [],
   "source": [
    "print(\"ljfdsfsfdsfsdf\")\n"
   ]
  },
  {
   "cell_type": "code",
   "execution_count": null,
   "metadata": {},
   "outputs": [],
   "source": []
  },
  {
   "cell_type": "code",
   "execution_count": null,
   "metadata": {},
   "outputs": [],
   "source": []
  },
  {
   "cell_type": "code",
   "execution_count": null,
   "metadata": {},
   "outputs": [],
   "source": []
  }
 ],
 "metadata": {
  "colab": {
   "collapsed_sections": [],
   "name": "Copy of ML Project.ipynb",
   "provenance": []
  },
  "kernelspec": {
   "display_name": "Python 3 (ipykernel)",
   "language": "python",
   "name": "python3"
  },
  "language_info": {
   "codemirror_mode": {
    "name": "ipython",
    "version": 3
   },
   "file_extension": ".py",
   "mimetype": "text/x-python",
   "name": "python",
   "nbconvert_exporter": "python",
   "pygments_lexer": "ipython3",
   "version": "3.10.9"
  }
 },
 "nbformat": 4,
 "nbformat_minor": 1
}
